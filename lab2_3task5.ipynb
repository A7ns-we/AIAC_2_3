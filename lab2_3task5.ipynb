{
  "nbformat": 4,
  "nbformat_minor": 0,
  "metadata": {
    "colab": {
      "provenance": [],
      "authorship_tag": "ABX9TyNv+whMZj8ei56Z8SwK9TOq",
      "include_colab_link": true
    },
    "kernelspec": {
      "name": "python3",
      "display_name": "Python 3"
    },
    "language_info": {
      "name": "python"
    }
  },
  "cells": [
    {
      "cell_type": "markdown",
      "metadata": {
        "id": "view-in-github",
        "colab_type": "text"
      },
      "source": [
        "<a href=\"https://colab.research.google.com/github/A7ns-we/AIAC_2_3/blob/main/lab2_3task5.ipynb\" target=\"_parent\"><img src=\"https://colab.research.google.com/assets/colab-badge.svg\" alt=\"Open In Colab\"/></a>"
      ]
    },
    {
      "cell_type": "code",
      "execution_count": null,
      "metadata": {
        "id": "XQprQYpRfeRk"
      },
      "outputs": [],
      "source": []
    },
    {
      "cell_type": "markdown",
      "source": [
        "Task Description#5\n",
        "●\tStudent need to write code to calculate sum of add number and even numbers in the list\n",
        "Expected Output#5\n",
        "●\tRefactored code written by student with improved logic\n"
      ],
      "metadata": {
        "id": "oFWo_62WffFF"
      }
    },
    {
      "cell_type": "code",
      "source": [
        "numbers_str = input(\"Enter a list of numbers separated by spaces: \")\n",
        "numbers = [int(num) for num in numbers_str.split()]\n",
        "\n",
        "odd_sum = 0\n",
        "even_sum = 0\n",
        "\n",
        "for number in numbers:\n",
        "  if number % 2 == 0:\n",
        "    even_sum += number\n",
        "  else:\n",
        "    odd_sum += number\n",
        "\n",
        "print(f\"Sum of odd numbers: {odd_sum}\")\n",
        "print(f\"Sum of even numbers: {even_sum}\")"
      ],
      "metadata": {
        "colab": {
          "base_uri": "https://localhost:8080/"
        },
        "id": "BH3cowGRfjph",
        "outputId": "ae9cb6bb-d4cc-4fdf-d103-a2a50ba3c17d"
      },
      "execution_count": 2,
      "outputs": [
        {
          "output_type": "stream",
          "name": "stdout",
          "text": [
            "Enter a list of numbers separated by spaces: 34 5 23 34\n",
            "Sum of odd numbers: 28\n",
            "Sum of even numbers: 68\n"
          ]
        }
      ]
    }
  ]
}