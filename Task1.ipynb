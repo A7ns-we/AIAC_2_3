{
  "nbformat": 4,
  "nbformat_minor": 0,
  "metadata": {
    "colab": {
      "provenance": [],
      "authorship_tag": "ABX9TyOxKM8vXVyBzQ5TxuGX25so",
      "include_colab_link": true
    },
    "kernelspec": {
      "name": "python3",
      "display_name": "Python 3"
    },
    "language_info": {
      "name": "python"
    }
  },
  "cells": [
    {
      "cell_type": "markdown",
      "metadata": {
        "id": "view-in-github",
        "colab_type": "text"
      },
      "source": [
        "<a href=\"https://colab.research.google.com/github/A7ns-we/AIAC_2_3/blob/main/Task1.ipynb\" target=\"_parent\"><img src=\"https://colab.research.google.com/assets/colab-badge.svg\" alt=\"Open In Colab\"/></a>"
      ]
    },
    {
      "cell_type": "markdown",
      "source": [
        "●\tUse Google Gemini in Colab to write a function that reads a CSV file and calculates mean, min, max.\n"
      ],
      "metadata": {
        "id": "zmBD3fvs9VJs"
      }
    },
    {
      "cell_type": "code",
      "source": [
        "import pandas as pd\n",
        "\n",
        "def analyze_csv(file_path):\n",
        "  \"\"\"\n",
        "  Reads a CSV file and calculates the mean, min, and max of the data.\n",
        "\n",
        "  Args:\n",
        "    file_path (str): The path to the CSV file.\n",
        "\n",
        "  Returns:\n",
        "    dict: A dictionary containing the mean, min, and max values.\n",
        "  \"\"\"\n",
        "  try:\n",
        "    df = pd.read_csv(file_path)\n",
        "\n",
        "    # Assuming the CSV has numerical columns, calculate stats for each\n",
        "    analysis_results = {}\n",
        "    for col in df.select_dtypes(include=['number']).columns:\n",
        "        analysis_results[col] = {\n",
        "            'mean': df[col].mean(),\n",
        "            'min': df[col].min(),\n",
        "            'max': df[col].max()\n",
        "        }\n",
        "    return analysis_results\n",
        "\n",
        "  except FileNotFoundError:\n",
        "    return f\"Error: File not found at {file_path}\"\n",
        "  except Exception as e:\n",
        "    return f\"An error occurred: {e}\"\n",
        "\n",
        "# Example usage:\n",
        "# Replace 'csv-1.0' with the actual path to your CSV file\n",
        "# results = analyze_csv('csv-1.0')\n",
        "# print(results)"
      ],
      "metadata": {
        "id": "wWxcTZgX9FuA"
      },
      "execution_count": 2,
      "outputs": []
    },
    {
      "cell_type": "code",
      "metadata": {
        "colab": {
          "base_uri": "https://localhost:8080/"
        },
        "id": "7e0226f1",
        "outputId": "4eb57062-e957-4e50-ba4b-4bd730c1df2f"
      },
      "source": [
        "# Use the analyze_csv function with your file path\n",
        "file_path = 'csv-1.0.csv'  # Replace with the actual path to your CSV file\n",
        "results = analyze_csv(file_path)\n",
        "print(results)"
      ],
      "execution_count": 4,
      "outputs": [
        {
          "output_type": "stream",
          "name": "stdout",
          "text": [
            "{'MARKS': {'mean': np.float64(39.44444444444444), 'min': 3, 'max': 80}}\n"
          ]
        }
      ]
    }
  ]
}