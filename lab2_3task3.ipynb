{
  "nbformat": 4,
  "nbformat_minor": 0,
  "metadata": {
    "colab": {
      "provenance": [],
      "authorship_tag": "ABX9TyMkhtf0OrgF0P7NPWm9QnDn",
      "include_colab_link": true
    },
    "kernelspec": {
      "name": "python3",
      "display_name": "Python 3"
    },
    "language_info": {
      "name": "python"
    }
  },
  "cells": [
    {
      "cell_type": "markdown",
      "metadata": {
        "id": "view-in-github",
        "colab_type": "text"
      },
      "source": [
        "<a href=\"https://colab.research.google.com/github/A7ns-we/AIAC_2_3/blob/main/lab2_3task3.ipynb\" target=\"_parent\"><img src=\"https://colab.research.google.com/assets/colab-badge.svg\" alt=\"Open In Colab\"/></a>"
      ]
    },
    {
      "cell_type": "code",
      "execution_count": null,
      "metadata": {
        "id": "YG20nCI0d2hM"
      },
      "outputs": [],
      "source": []
    },
    {
      "cell_type": "markdown",
      "source": [
        "Task Description#3\n",
        "●\tAsk Gemini to explain a Python function (to calculate area of various shapes) line by line..\n",
        "Expected Output#3\n",
        "●\tDetailed explanation with code snippet\n"
      ],
      "metadata": {
        "id": "WvLX2e2Hd3oy"
      }
    },
    {
      "cell_type": "code",
      "source": [],
      "metadata": {
        "id": "lwUPqURyd6GU"
      },
      "execution_count": null,
      "outputs": []
    },
    {
      "cell_type": "code",
      "metadata": {
        "colab": {
          "base_uri": "https://localhost:8080/"
        },
        "id": "6afae848",
        "outputId": "2ffe3e0e-1e32-432d-d493-bb8193d018b4"
      },
      "source": [
        "import math\n",
        "\n",
        "def calculate_area():\n",
        "    \"\"\"\n",
        "    Calculates the area of various shapes based on user input.\n",
        "    \"\"\"\n",
        "    shape = input(\"Enter the shape (square, rectangle, circle, triangle): \").lower()\n",
        "\n",
        "    if shape == \"square\":\n",
        "        side = float(input(\"Enter the side length: \"))\n",
        "        area = side ** 2\n",
        "        print(f\"The area of the square is: {area}\")\n",
        "    elif shape == \"rectangle\":\n",
        "        length = float(input(\"Enter the length: \"))\n",
        "        width = float(input(\"Enter the width: \"))\n",
        "        area = length * width\n",
        "        print(f\"The area of the rectangle is: {area}\")\n",
        "    elif shape == \"circle\":\n",
        "        radius = float(input(\"Enter the radius: \"))\n",
        "        area = math.pi * (radius ** 2)\n",
        "        print(f\"The area of the circle is: {area}\")\n",
        "    elif shape == \"triangle\":\n",
        "        base = float(input(\"Enter the base length: \"))\n",
        "        height = float(input(\"Enter the height: \"))\n",
        "        area = 0.5 * base * height\n",
        "        print(f\"The area of the triangle is: {area}\")\n",
        "    else:\n",
        "        print(\"Invalid shape entered.\")\n",
        "\n",
        "calculate_area()"
      ],
      "execution_count": 1,
      "outputs": [
        {
          "output_type": "stream",
          "name": "stdout",
          "text": [
            "Enter the shape (square, rectangle, circle, triangle): circle\n",
            "Enter the radius: 2\n",
            "The area of the circle is: 12.566370614359172\n"
          ]
        }
      ]
    }
  ]
}